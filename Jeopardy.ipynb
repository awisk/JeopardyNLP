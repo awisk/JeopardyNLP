{
 "cells": [
  {
   "cell_type": "code",
   "execution_count": 1,
   "metadata": {},
   "outputs": [],
   "source": [
    "import pandas as pd\n",
    "import random\n",
    "from collections import defaultdict, Counter\n",
    "from tqdm.notebook import tqdm\n",
    "import numpy as np\n",
    "from sklearn.metrics import f1_score\n",
    "import seaborn as sns\n",
    "import matplotlib.pyplot as plt\n",
    "%matplotlib inline\n",
    "from datetime import datetime\n",
    "import re\n",
    "import re\n",
    "import nltk\n",
    "import pandas as pd\n",
    "from nltk.stem import PorterStemmer\n",
    "from sklearn.model_selection import train_test_split\n",
    "from sklearn.linear_model import LogisticRegression\n",
    "from sklearn.feature_extraction.text import CountVectorizer,TfidfVectorizer\n",
    "from simpletransformers.classification import ClassificationModel, ClassificationArgs\n"
   ]
  },
  {
   "cell_type": "markdown",
   "metadata": {},
   "source": [
    "## Loading Data"
   ]
  },
  {
   "cell_type": "code",
   "execution_count": 2,
   "metadata": {},
   "outputs": [],
   "source": [
    "df = pd.read_csv('https://query.data.world/s/sktr44jfdxwsht2quuczc2yldirizz', encoding = \"ISO-8859-1\" )#, engine='python') #, encoding=\"0x89\")"
   ]
  },
  {
   "cell_type": "code",
   "execution_count": 3,
   "metadata": {},
   "outputs": [],
   "source": [
    "amounts = ['$200 ', '$400 ', '$600 ', '$800 ', '$1,000 ', '$1,200 ', '$1,600 ', '$2,000 ']\n",
    "\n",
    "# make sure only rows with set values\n",
    "df_reg = df[df['Value'].isin(amounts)]\n",
    "\n",
    "# not null values\n",
    "df_reg = df_reg[df_reg['Value'].notnull()]"
   ]
  },
  {
   "cell_type": "code",
   "execution_count": 4,
   "metadata": {},
   "outputs": [
    {
     "data": {
      "text/html": [
       "<div>\n",
       "<style scoped>\n",
       "    .dataframe tbody tr th:only-of-type {\n",
       "        vertical-align: middle;\n",
       "    }\n",
       "\n",
       "    .dataframe tbody tr th {\n",
       "        vertical-align: top;\n",
       "    }\n",
       "\n",
       "    .dataframe thead th {\n",
       "        text-align: right;\n",
       "    }\n",
       "</style>\n",
       "<table border=\"1\" class=\"dataframe\">\n",
       "  <thead>\n",
       "    <tr style=\"text-align: right;\">\n",
       "      <th></th>\n",
       "      <th>Show_Number</th>\n",
       "      <th>Air_Date</th>\n",
       "      <th>Round</th>\n",
       "      <th>Category</th>\n",
       "      <th>Value</th>\n",
       "      <th>Question</th>\n",
       "      <th>Answer</th>\n",
       "      <th>value_order</th>\n",
       "      <th>text</th>\n",
       "      <th>value_order2</th>\n",
       "    </tr>\n",
       "  </thead>\n",
       "  <tbody>\n",
       "    <tr>\n",
       "      <th>0</th>\n",
       "      <td>4680</td>\n",
       "      <td>12/31/04</td>\n",
       "      <td>Jeopardy!</td>\n",
       "      <td>HISTORY</td>\n",
       "      <td>$200</td>\n",
       "      <td>For the last 8 years of his life, Galileo was ...</td>\n",
       "      <td>Copernicus</td>\n",
       "      <td>0</td>\n",
       "      <td>HISTORY Copernicus For the last 8 years of his...</td>\n",
       "      <td>0</td>\n",
       "    </tr>\n",
       "    <tr>\n",
       "      <th>1</th>\n",
       "      <td>4680</td>\n",
       "      <td>12/31/04</td>\n",
       "      <td>Jeopardy!</td>\n",
       "      <td>ESPN's TOP 10 ALL-TIME ATHLETES</td>\n",
       "      <td>$200</td>\n",
       "      <td>No. 2: 1912 Olympian; football star at Carlisl...</td>\n",
       "      <td>Jim Thorpe</td>\n",
       "      <td>0</td>\n",
       "      <td>ESPN's TOP 10 ALL-TIME ATHLETES Jim Thorpe No....</td>\n",
       "      <td>0</td>\n",
       "    </tr>\n",
       "    <tr>\n",
       "      <th>2</th>\n",
       "      <td>4680</td>\n",
       "      <td>12/31/04</td>\n",
       "      <td>Jeopardy!</td>\n",
       "      <td>EVERYBODY TALKS ABOUT IT...</td>\n",
       "      <td>$200</td>\n",
       "      <td>The city of Yuma in this state has a record av...</td>\n",
       "      <td>Arizona</td>\n",
       "      <td>0</td>\n",
       "      <td>EVERYBODY TALKS ABOUT IT... Arizona The city o...</td>\n",
       "      <td>0</td>\n",
       "    </tr>\n",
       "    <tr>\n",
       "      <th>3</th>\n",
       "      <td>4680</td>\n",
       "      <td>12/31/04</td>\n",
       "      <td>Jeopardy!</td>\n",
       "      <td>THE COMPANY LINE</td>\n",
       "      <td>$200</td>\n",
       "      <td>In 1963, live on \"The Art Linkletter Show\", th...</td>\n",
       "      <td>McDonald's</td>\n",
       "      <td>0</td>\n",
       "      <td>THE COMPANY LINE McDonald's In 1963, live on \"...</td>\n",
       "      <td>0</td>\n",
       "    </tr>\n",
       "    <tr>\n",
       "      <th>4</th>\n",
       "      <td>4680</td>\n",
       "      <td>12/31/04</td>\n",
       "      <td>Jeopardy!</td>\n",
       "      <td>EPITAPHS &amp; TRIBUTES</td>\n",
       "      <td>$200</td>\n",
       "      <td>Signer of the Dec. of Indep., framer of the Co...</td>\n",
       "      <td>John Adams</td>\n",
       "      <td>0</td>\n",
       "      <td>EPITAPHS &amp; TRIBUTES John Adams Signer of the D...</td>\n",
       "      <td>0</td>\n",
       "    </tr>\n",
       "  </tbody>\n",
       "</table>\n",
       "</div>"
      ],
      "text/plain": [
       "   Show_Number  Air_Date      Round                         Category  Value  \\\n",
       "0         4680  12/31/04  Jeopardy!                          HISTORY  $200    \n",
       "1         4680  12/31/04  Jeopardy!  ESPN's TOP 10 ALL-TIME ATHLETES  $200    \n",
       "2         4680  12/31/04  Jeopardy!      EVERYBODY TALKS ABOUT IT...  $200    \n",
       "3         4680  12/31/04  Jeopardy!                 THE COMPANY LINE  $200    \n",
       "4         4680  12/31/04  Jeopardy!              EPITAPHS & TRIBUTES  $200    \n",
       "\n",
       "                                            Question      Answer  value_order  \\\n",
       "0  For the last 8 years of his life, Galileo was ...  Copernicus            0   \n",
       "1  No. 2: 1912 Olympian; football star at Carlisl...  Jim Thorpe            0   \n",
       "2  The city of Yuma in this state has a record av...     Arizona            0   \n",
       "3  In 1963, live on \"The Art Linkletter Show\", th...  McDonald's            0   \n",
       "4  Signer of the Dec. of Indep., framer of the Co...  John Adams            0   \n",
       "\n",
       "                                                text  value_order2  \n",
       "0  HISTORY Copernicus For the last 8 years of his...             0  \n",
       "1  ESPN's TOP 10 ALL-TIME ATHLETES Jim Thorpe No....             0  \n",
       "2  EVERYBODY TALKS ABOUT IT... Arizona The city o...             0  \n",
       "3  THE COMPANY LINE McDonald's In 1963, live on \"...             0  \n",
       "4  EPITAPHS & TRIBUTES John Adams Signer of the D...             0  "
      ]
     },
     "execution_count": 4,
     "metadata": {},
     "output_type": "execute_result"
    }
   ],
   "source": [
    "#######################\n",
    "# Create Ordinal Mapping for Y Labels\n",
    "value_mapping = {'$200 ': 0, '$400 ': 1, '$600 ': 2,\n",
    "     '$800 ': 3, '$1,000 ': 4, '$1,200 ': 5,\n",
    "     '$1,600 ': 6, '$2,000 ': 7}\n",
    "\n",
    "df_reg['value_order'] = df_reg.Value.map(value_mapping).astype(int)\n",
    "\n",
    "\n",
    "#######################\n",
    "# Create text using Category, Answer and Question\n",
    "\n",
    "df_reg['text'] = ''\n",
    "\n",
    "for i, row in df_reg.iterrows():\n",
    "    text = ''\n",
    "    if type(row['Category']) == str:\n",
    "        text = text + row['Category']\n",
    "    if type(row['Answer']) == str:\n",
    "        text = text + ' ' + row['Answer']\n",
    "    if type(row['Question']) == str:\n",
    "        text = text + ' ' + row['Question']\n",
    "    df_reg.loc[i,'text'] = text\n",
    "    \n",
    "\n",
    "#######################\n",
    "# Create a version 2 of Jeopardy questions\n",
    "\n",
    "    \n",
    "df_reg['value_order2'] = df_reg['value_order']\n",
    "\n",
    "for i, row in df_reg.iterrows():\n",
    "    value = row['Value'].strip()\n",
    "    value_order = row['value_order']\n",
    "    if row['Round'].strip() == 'Double Jeopardy!':\n",
    "        if value == '$400':\n",
    "            value_order = 0\n",
    "        elif value == '$800':\n",
    "            value_order = 1\n",
    "        elif value == '$1,200':\n",
    "            value_order = 2\n",
    "        elif value == '$1,600':\n",
    "            value_order = 3\n",
    "        elif value == '$2,000':\n",
    "            value_order = 4\n",
    "        df_reg.loc[i,'value_order2'] = value_order\n",
    "        \n",
    "df_reg.head()"
   ]
  },
  {
   "cell_type": "code",
   "execution_count": 5,
   "metadata": {},
   "outputs": [],
   "source": [
    "########################\n",
    "# Removing incorrect data anomalies\n",
    "\n",
    "incorrect_data = df_reg.value_order2.isin([5,6,7])\n",
    "df_reg2 = df_reg[~incorrect_data]"
   ]
  },
  {
   "cell_type": "code",
   "execution_count": 6,
   "metadata": {},
   "outputs": [
    {
     "name": "stdout",
     "output_type": "stream",
     "text": [
      "              count\n",
      "value_order2       \n",
      "0             51743\n",
      "1             40812\n",
      "2             31979\n",
      "3             22956\n",
      "4             34225\n"
     ]
    }
   ],
   "source": [
    "########################\n",
    "# Fixing Uneven Classification data\n",
    "print(df_reg2.groupby(['value_order2'])['Show_Number'].agg(['count']))\n",
    "\n",
    "df_reg2_0 = df_reg2[df_reg2['value_order2'] == 0].sample(22956)\n",
    "df_reg2_1 = df_reg2[df_reg2['value_order2'] == 1].sample(22956)\n",
    "df_reg2_2 = df_reg2[df_reg2['value_order2'] == 2].sample(22956)\n",
    "df_reg2_3 = df_reg2[df_reg2['value_order2'] == 3]\n",
    "df_reg2_4 = df_reg2[df_reg2['value_order2'] == 4].sample(22956)\n",
    "\n",
    "\n",
    "df_reg3 = pd.concat([df_reg2_0, df_reg2_1, df_reg2_2, df_reg2_3, df_reg2_4])\n"
   ]
  },
  {
   "cell_type": "code",
   "execution_count": 7,
   "metadata": {},
   "outputs": [
    {
     "data": {
      "text/html": [
       "<div>\n",
       "<style scoped>\n",
       "    .dataframe tbody tr th:only-of-type {\n",
       "        vertical-align: middle;\n",
       "    }\n",
       "\n",
       "    .dataframe tbody tr th {\n",
       "        vertical-align: top;\n",
       "    }\n",
       "\n",
       "    .dataframe thead th {\n",
       "        text-align: right;\n",
       "    }\n",
       "</style>\n",
       "<table border=\"1\" class=\"dataframe\">\n",
       "  <thead>\n",
       "    <tr style=\"text-align: right;\">\n",
       "      <th></th>\n",
       "      <th>Show_Number</th>\n",
       "      <th>Air_Date</th>\n",
       "      <th>Round</th>\n",
       "      <th>Category</th>\n",
       "      <th>Value</th>\n",
       "      <th>Question</th>\n",
       "      <th>Answer</th>\n",
       "      <th>value_order</th>\n",
       "      <th>text</th>\n",
       "      <th>value_order2</th>\n",
       "      <th>text2</th>\n",
       "    </tr>\n",
       "  </thead>\n",
       "  <tbody>\n",
       "    <tr>\n",
       "      <th>14045</th>\n",
       "      <td>3621</td>\n",
       "      <td>5/8/00</td>\n",
       "      <td>Double Jeopardy!</td>\n",
       "      <td>COUNTRIES BY CAPITAL</td>\n",
       "      <td>$200</td>\n",
       "      <td>In the Americas: Caracas</td>\n",
       "      <td>Venezuela</td>\n",
       "      <td>0</td>\n",
       "      <td>COUNTRIES BY CAPITAL Venezuela In the Americas...</td>\n",
       "      <td>0</td>\n",
       "      <td>COUNTRIES BY CAPITAL Venezuela In the Americas...</td>\n",
       "    </tr>\n",
       "    <tr>\n",
       "      <th>121857</th>\n",
       "      <td>6057</td>\n",
       "      <td>1/4/11</td>\n",
       "      <td>Jeopardy!</td>\n",
       "      <td>3 AGAINST 1</td>\n",
       "      <td>$200</td>\n",
       "      <td>British theater director Trevor, or ex-Georgia...</td>\n",
       "      <td>Nunn</td>\n",
       "      <td>0</td>\n",
       "      <td>3 AGAINST 1 Nunn British theater director Trev...</td>\n",
       "      <td>0</td>\n",
       "      <td>3 AGAINST 1 Nunn British theater director Trev...</td>\n",
       "    </tr>\n",
       "    <tr>\n",
       "      <th>149410</th>\n",
       "      <td>4240</td>\n",
       "      <td>1/24/03</td>\n",
       "      <td>Jeopardy!</td>\n",
       "      <td>PRESIDENTIAL RHYME TIME</td>\n",
       "      <td>$200</td>\n",
       "      <td>Clinton's aspirins</td>\n",
       "      <td>Bill's pills</td>\n",
       "      <td>0</td>\n",
       "      <td>PRESIDENTIAL RHYME TIME Bill's pills Clinton's...</td>\n",
       "      <td>0</td>\n",
       "      <td>PRESIDENTIAL RHYME TIME Bill's pills Clinton's...</td>\n",
       "    </tr>\n",
       "    <tr>\n",
       "      <th>74116</th>\n",
       "      <td>2824</td>\n",
       "      <td>12/5/96</td>\n",
       "      <td>Jeopardy!</td>\n",
       "      <td>LITERARY HODGEPODGE</td>\n",
       "      <td>$200</td>\n",
       "      <td>Once a naval historian in the south Pacific, h...</td>\n",
       "      <td>James Michener</td>\n",
       "      <td>0</td>\n",
       "      <td>LITERARY HODGEPODGE James Michener Once a nava...</td>\n",
       "      <td>0</td>\n",
       "      <td>LITERARY HODGEPODGE James Michener Once a nava...</td>\n",
       "    </tr>\n",
       "    <tr>\n",
       "      <th>185582</th>\n",
       "      <td>3078</td>\n",
       "      <td>1/7/98</td>\n",
       "      <td>Double Jeopardy!</td>\n",
       "      <td>DIBS!</td>\n",
       "      <td>$400</td>\n",
       "      <td>The Dutch had already sighted Australia, &amp; Abo...</td>\n",
       "      <td>Captain James Cook</td>\n",
       "      <td>1</td>\n",
       "      <td>DIBS! Captain James Cook The Dutch had already...</td>\n",
       "      <td>0</td>\n",
       "      <td>DIBS! Captain James Cook The Dutch had already...</td>\n",
       "    </tr>\n",
       "    <tr>\n",
       "      <th>...</th>\n",
       "      <td>...</td>\n",
       "      <td>...</td>\n",
       "      <td>...</td>\n",
       "      <td>...</td>\n",
       "      <td>...</td>\n",
       "      <td>...</td>\n",
       "      <td>...</td>\n",
       "      <td>...</td>\n",
       "      <td>...</td>\n",
       "      <td>...</td>\n",
       "      <td>...</td>\n",
       "    </tr>\n",
       "    <tr>\n",
       "      <th>26932</th>\n",
       "      <td>4892</td>\n",
       "      <td>12/13/05</td>\n",
       "      <td>Jeopardy!</td>\n",
       "      <td>NFL NICKNAMES</td>\n",
       "      <td>$1,000</td>\n",
       "      <td>\"Sweetness\"</td>\n",
       "      <td>Walter Payton</td>\n",
       "      <td>4</td>\n",
       "      <td>NFL NICKNAMES Walter Payton \"Sweetness\"</td>\n",
       "      <td>4</td>\n",
       "      <td>NFL NICKNAMES Walter Payton \"Sweetness\"</td>\n",
       "    </tr>\n",
       "    <tr>\n",
       "      <th>10940</th>\n",
       "      <td>3588</td>\n",
       "      <td>3/22/00</td>\n",
       "      <td>Double Jeopardy!</td>\n",
       "      <td>COUNTIES OF ENGLAND</td>\n",
       "      <td>$1,000</td>\n",
       "      <td>The westernmost county of England, or what the...</td>\n",
       "      <td>Cornwall</td>\n",
       "      <td>4</td>\n",
       "      <td>COUNTIES OF ENGLAND Cornwall The westernmost c...</td>\n",
       "      <td>4</td>\n",
       "      <td>COUNTIES OF ENGLAND Cornwall The westernmost c...</td>\n",
       "    </tr>\n",
       "    <tr>\n",
       "      <th>76032</th>\n",
       "      <td>5418</td>\n",
       "      <td>3/12/08</td>\n",
       "      <td>Double Jeopardy!</td>\n",
       "      <td>THROWDOWN WITH BOBBY FLAY</td>\n",
       "      <td>$2,000</td>\n",
       "      <td>(&lt;a href=\"http://www.j-archive.com/media/2008-...</td>\n",
       "      <td>caramelized</td>\n",
       "      <td>7</td>\n",
       "      <td>THROWDOWN WITH BOBBY FLAY caramelized (&lt;a href...</td>\n",
       "      <td>4</td>\n",
       "      <td>THROWDOWN WITH BOBBY FLAY caramelized (&lt;a href...</td>\n",
       "    </tr>\n",
       "    <tr>\n",
       "      <th>199752</th>\n",
       "      <td>2851</td>\n",
       "      <td>1/13/97</td>\n",
       "      <td>Double Jeopardy!</td>\n",
       "      <td>SCIENTISTS</td>\n",
       "      <td>$1,000</td>\n",
       "      <td>This Hungarian-American physicist was the prin...</td>\n",
       "      <td>Edward Teller</td>\n",
       "      <td>4</td>\n",
       "      <td>SCIENTISTS Edward Teller This Hungarian-Americ...</td>\n",
       "      <td>4</td>\n",
       "      <td>SCIENTISTS Edward Teller This Hungarian-Americ...</td>\n",
       "    </tr>\n",
       "    <tr>\n",
       "      <th>214807</th>\n",
       "      <td>5212</td>\n",
       "      <td>4/17/07</td>\n",
       "      <td>Jeopardy!</td>\n",
       "      <td>FOLKS ON SPORTS</td>\n",
       "      <td>$1,000</td>\n",
       "      <td>Jay Leno said, \"On his way home from Torino, h...</td>\n",
       "      <td>Bode Miller</td>\n",
       "      <td>4</td>\n",
       "      <td>FOLKS ON SPORTS Bode Miller Jay Leno said, \"On...</td>\n",
       "      <td>4</td>\n",
       "      <td>FOLKS ON SPORTS Bode Miller Jay Leno said, \"On...</td>\n",
       "    </tr>\n",
       "  </tbody>\n",
       "</table>\n",
       "<p>114780 rows × 11 columns</p>\n",
       "</div>"
      ],
      "text/plain": [
       "        Show_Number  Air_Date             Round                   Category  \\\n",
       "14045          3621    5/8/00  Double Jeopardy!       COUNTRIES BY CAPITAL   \n",
       "121857         6057    1/4/11         Jeopardy!                3 AGAINST 1   \n",
       "149410         4240   1/24/03         Jeopardy!    PRESIDENTIAL RHYME TIME   \n",
       "74116          2824   12/5/96         Jeopardy!        LITERARY HODGEPODGE   \n",
       "185582         3078    1/7/98  Double Jeopardy!                      DIBS!   \n",
       "...             ...       ...               ...                        ...   \n",
       "26932          4892  12/13/05         Jeopardy!              NFL NICKNAMES   \n",
       "10940          3588   3/22/00  Double Jeopardy!        COUNTIES OF ENGLAND   \n",
       "76032          5418   3/12/08  Double Jeopardy!  THROWDOWN WITH BOBBY FLAY   \n",
       "199752         2851   1/13/97  Double Jeopardy!                 SCIENTISTS   \n",
       "214807         5212   4/17/07         Jeopardy!            FOLKS ON SPORTS   \n",
       "\n",
       "          Value                                           Question  \\\n",
       "14045     $200                            In the Americas: Caracas   \n",
       "121857    $200   British theater director Trevor, or ex-Georgia...   \n",
       "149410    $200                                  Clinton's aspirins   \n",
       "74116     $200   Once a naval historian in the south Pacific, h...   \n",
       "185582    $400   The Dutch had already sighted Australia, & Abo...   \n",
       "...         ...                                                ...   \n",
       "26932   $1,000                                         \"Sweetness\"   \n",
       "10940   $1,000   The westernmost county of England, or what the...   \n",
       "76032   $2,000   (<a href=\"http://www.j-archive.com/media/2008-...   \n",
       "199752  $1,000   This Hungarian-American physicist was the prin...   \n",
       "214807  $1,000   Jay Leno said, \"On his way home from Torino, h...   \n",
       "\n",
       "                    Answer  value_order  \\\n",
       "14045            Venezuela            0   \n",
       "121857                Nunn            0   \n",
       "149410        Bill's pills            0   \n",
       "74116       James Michener            0   \n",
       "185582  Captain James Cook            1   \n",
       "...                    ...          ...   \n",
       "26932        Walter Payton            4   \n",
       "10940             Cornwall            4   \n",
       "76032          caramelized            7   \n",
       "199752       Edward Teller            4   \n",
       "214807         Bode Miller            4   \n",
       "\n",
       "                                                     text  value_order2  \\\n",
       "14045   COUNTRIES BY CAPITAL Venezuela In the Americas...             0   \n",
       "121857  3 AGAINST 1 Nunn British theater director Trev...             0   \n",
       "149410  PRESIDENTIAL RHYME TIME Bill's pills Clinton's...             0   \n",
       "74116   LITERARY HODGEPODGE James Michener Once a nava...             0   \n",
       "185582  DIBS! Captain James Cook The Dutch had already...             0   \n",
       "...                                                   ...           ...   \n",
       "26932             NFL NICKNAMES Walter Payton \"Sweetness\"             4   \n",
       "10940   COUNTIES OF ENGLAND Cornwall The westernmost c...             4   \n",
       "76032   THROWDOWN WITH BOBBY FLAY caramelized (<a href...             4   \n",
       "199752  SCIENTISTS Edward Teller This Hungarian-Americ...             4   \n",
       "214807  FOLKS ON SPORTS Bode Miller Jay Leno said, \"On...             4   \n",
       "\n",
       "                                                    text2  \n",
       "14045   COUNTRIES BY CAPITAL Venezuela In the Americas...  \n",
       "121857  3 AGAINST 1 Nunn British theater director Trev...  \n",
       "149410  PRESIDENTIAL RHYME TIME Bill's pills Clinton's...  \n",
       "74116   LITERARY HODGEPODGE James Michener Once a nava...  \n",
       "185582  DIBS! Captain James Cook The Dutch had already...  \n",
       "...                                                   ...  \n",
       "26932             NFL NICKNAMES Walter Payton \"Sweetness\"  \n",
       "10940   COUNTIES OF ENGLAND Cornwall The westernmost c...  \n",
       "76032   THROWDOWN WITH BOBBY FLAY caramelized (<a href...  \n",
       "199752  SCIENTISTS Edward Teller This Hungarian-Americ...  \n",
       "214807  FOLKS ON SPORTS Bode Miller Jay Leno said, \"On...  \n",
       "\n",
       "[114780 rows x 11 columns]"
      ]
     },
     "execution_count": 7,
     "metadata": {},
     "output_type": "execute_result"
    }
   ],
   "source": [
    "########################\n",
    "# Limiting words to make it compatible with BERT model\n",
    "\n",
    "df_bert2 = df_reg3\n",
    "\n",
    "df_bert2.loc[:,'text2'] = ''\n",
    "\n",
    "for i, row in df_bert2.iterrows():\n",
    "    words = row['text'].split(' ')\n",
    "    if len(words) > 200:\n",
    "        words = words[:200]\n",
    "    df_bert2.loc[i,'text2'] = ' '.join(words)\n",
    "    \n",
    "df_bert2"
   ]
  },
  {
   "cell_type": "markdown",
   "metadata": {},
   "source": [
    "## Data Exploration"
   ]
  },
  {
   "cell_type": "code",
   "execution_count": null,
   "metadata": {},
   "outputs": [],
   "source": [
    "t = pd.CategoricalDtype(categories=amounts, ordered=True)\n",
    "df_reg['Value'] = df_reg['Value'].astype(t)\n",
    "\n",
    "# get year from air_date\n",
    "df['Year'] = pd.to_datetime(df['Air_Date'], format='%m/%d/%y').dt.year"
   ]
  },
  {
   "cell_type": "code",
   "execution_count": null,
   "metadata": {},
   "outputs": [],
   "source": [
    "def agg_count(df, group_field):\n",
    "    grouped = df.groupby(group_field, as_index=False).size()\n",
    "#     grouped.sort(ascending = False)\n",
    "\n",
    "    grouped = pd.DataFrame(grouped).reset_index()\n",
    "    grouped.columns = [group_field, 'Count']\n",
    "    return grouped"
   ]
  },
  {
   "cell_type": "code",
   "execution_count": null,
   "metadata": {},
   "outputs": [],
   "source": [
    "category_counts = agg_count(df_reg, 'Value')\n",
    "\n",
    "category_counts_og = agg_count(df, 'Value')\n",
    "category_counts_og = category_counts_og.sort_values(by='Count', ascending=False)[0:10]\n",
    "\n",
    "#####################\n",
    "# Jeopardy1 is first jeopardy round\n",
    "# Jeopardy2 is double jeopardy round\n",
    "jeopardy1 = df[df['Round'] == 'Jeopardy!']\n",
    "jeopardy2 = df[df['Round'] == 'Double Jeopardy!']\n",
    "\n",
    "#####################\n",
    "# Finding values which are not typical\n",
    "category_counts_og_1 = agg_count(jeopardy1[~jeopardy1['Value'].isin(amounts)], 'Value')\n",
    "category_counts_og_1 = category_counts_og_1.sort_values(by='Count', ascending=False)[0:10]\n",
    "\n",
    "category_counts_og_2 = agg_count(jeopardy2[~jeopardy2['Value'].isin(amounts)], 'Value')\n",
    "category_counts_og_2 = category_counts_og_2.sort_values(by='Count', ascending=False)[0:10]\n",
    "\n",
    "#####################\n",
    "# Finding years when irregular values occurrred \n",
    "category_counts_og_3 = agg_count(jeopardy1[~jeopardy1['Value'].isin(amounts)], 'Year')\n",
    "category_counts_og_3 = category_counts_og_3.sort_values(by='Count', ascending=False)[0:10]\n",
    "\n",
    "category_counts_og_4 = agg_count(jeopardy2[~jeopardy2['Value'].isin(amounts)], 'Year')\n",
    "category_counts_og_4 = category_counts_og_4.sort_values(by='Count', ascending=False)[0:10]"
   ]
  },
  {
   "cell_type": "code",
   "execution_count": null,
   "metadata": {},
   "outputs": [],
   "source": [
    "category_counts_og_4"
   ]
  },
  {
   "cell_type": "code",
   "execution_count": null,
   "metadata": {},
   "outputs": [],
   "source": [
    "#########################\n",
    "# Printing What a Question & Answer look like\n",
    "\n",
    "print(jeopardy1[:1])\n",
    "\n",
    "for letter in jeopardy1['Question'][:1]:\n",
    "    print(letter)\n",
    "    \n",
    "print()\n",
    "\n",
    "for letter in jeopardy1['Answer'][:1]:\n",
    "    print(letter)"
   ]
  },
  {
   "cell_type": "markdown",
   "metadata": {},
   "source": [
    "## Data Visualization"
   ]
  },
  {
   "cell_type": "code",
   "execution_count": null,
   "metadata": {},
   "outputs": [],
   "source": [
    "category_counts_og = category_counts_og.sort_values(by='Count', ascending=False)[0:10]"
   ]
  },
  {
   "cell_type": "code",
   "execution_count": null,
   "metadata": {},
   "outputs": [],
   "source": [
    "#############################\n",
    "# Distribution of Typical Jeopardy Values\n",
    "\n",
    "ax = sns.barplot(data=category_counts, x=\"Count\", y=\"Value\")\n",
    "ax.set(xlabel='\\n Number of Questions')\n",
    "plt.title('Jeopardy Questions by Value \\n')"
   ]
  },
  {
   "cell_type": "code",
   "execution_count": null,
   "metadata": {},
   "outputs": [],
   "source": [
    "#############################\n",
    "# Distribution of ALL Jeopardy Values\n",
    "\n",
    "ax = sns.barplot(data=category_counts_og, x=\"Count\", y=\"Value\")\n",
    "ax.set(xlabel='\\n Number of Questions')\n",
    "plt.title('Jeopardy Questions by Value \\n')"
   ]
  },
  {
   "cell_type": "code",
   "execution_count": null,
   "metadata": {},
   "outputs": [],
   "source": [
    "#############################\n",
    "# Distribution of Irregular Jeopardy Values\n",
    "## First Round\n",
    "\n",
    "ax = sns.barplot(data=category_counts_og_1, x=\"Count\", y=\"Value\")\n",
    "# ax = sns.barplot(data=category_counts_og_3, x=\"Count\", y=\"Year\")\n",
    "ax.set(xlabel='\\n Number of Questions')\n",
    "plt.title('Jeopardy Questions by Value \\n')"
   ]
  },
  {
   "cell_type": "code",
   "execution_count": null,
   "metadata": {},
   "outputs": [],
   "source": [
    "#############################\n",
    "# Distribution of Typical Jeopardy Values\n",
    "## Second Round (Double Jeopardy)\n",
    "\n",
    "ax = sns.barplot(data=category_counts_og_2, x=\"Count\", y=\"Value\")\n",
    "ax.set(xlabel='\\n Number of Questions')\n",
    "plt.title('Jeopardy Questions by Value \\n')"
   ]
  },
  {
   "cell_type": "markdown",
   "metadata": {},
   "source": [
    "# CountVectorizer --> CAN SKIP THIS"
   ]
  },
  {
   "cell_type": "code",
   "execution_count": null,
   "metadata": {},
   "outputs": [],
   "source": [
    "######################\n",
    "# put questions in a list\n",
    "######################\n",
    "cat_in_the_hat_docs = df_reg.Question.tolist()\n",
    "# type(cat_in_the_hat_docs)\n",
    "\n",
    "######################\n",
    "# Vectorize questions\n",
    "######################\n",
    "cv = CountVectorizer(cat_in_the_hat_docs)\n",
    "count_vector=cv.fit_transform(cat_in_the_hat_docs)\n",
    "\n",
    "# show resulting vocabulary; the numbers are not counts, they are the position in the sparse vector.\n",
    "# print(cv.vocabulary_)\n",
    "\n",
    "#shape of count vector: 5 docs (book titles) and 43 unique words\n",
    "print(count_vector.shape)\n",
    "\n",
    "######################\n",
    "# stop words\n",
    "######################\n",
    "cv = CountVectorizer(cat_in_the_hat_docs,stop_words=[\"all\",\"in\",\"the\",\"is\",\"and\"])\n",
    "count_vector=cv.fit_transform(cat_in_the_hat_docs)\n",
    "print(count_vector.shape)\n",
    "\n",
    "# any stop words that we explicitly specified?\n",
    "# print(cv.stop_words)\n",
    "\n",
    "######################\n",
    "# ignore terms that appeared in less than 2 documents \n",
    "######################\n",
    "cv = CountVectorizer(cat_in_the_hat_docs,min_df=2)\n",
    "count_vector=cv.fit_transform(cat_in_the_hat_docs)\n",
    "\n",
    "######################\n",
    "# ignore terms that appear in 50% of the documents\n",
    "######################\n",
    "cv = CountVectorizer(cat_in_the_hat_docs,max_df=0.50)\n",
    "count_vector=cv.fit_transform(cat_in_the_hat_docs)"
   ]
  },
  {
   "cell_type": "code",
   "execution_count": null,
   "metadata": {},
   "outputs": [],
   "source": [
    "def my_tokenizer(text):\n",
    "    # create a space between special characters \n",
    "    text=re.sub(\"(\\\\W)\",\" \\\\1 \",text)\n",
    "\n",
    "    # split based on whitespace\n",
    "    return re.split(\"\\\\s+\",text)\n",
    "    \n",
    "\n",
    "cv = CountVectorizer(cat_in_the_hat_docs,tokenizer=my_tokenizer)\n",
    "count_vector=cv.fit_transform(cat_in_the_hat_docs)\n",
    "# print(cv.vocabulary_)"
   ]
  },
  {
   "cell_type": "markdown",
   "metadata": {},
   "source": [
    "### Apply processing and shape data (unigram & bigram)"
   ]
  },
  {
   "cell_type": "code",
   "execution_count": null,
   "metadata": {},
   "outputs": [],
   "source": [
    "# using my_cool_preprocessor\n",
    "cv1 = CountVectorizer(cat_in_the_hat_docs,preprocessor=my_cool_preprocessor)\n",
    "count_vector1=cv1.fit_transform(cat_in_the_hat_docs)"
   ]
  },
  {
   "cell_type": "code",
   "execution_count": null,
   "metadata": {},
   "outputs": [],
   "source": [
    "# only bigrams, word level\n",
    "cv2 = CountVectorizer(cat_in_the_hat_docs,ngram_range=(2,2),preprocessor=my_cool_preprocessor)\n",
    "count_vector2=cv2.fit_transform(cat_in_the_hat_docs)"
   ]
  },
  {
   "cell_type": "code",
   "execution_count": null,
   "metadata": {},
   "outputs": [],
   "source": [
    "# unigrams and bigrams, word level\n",
    "cv3 = CountVectorizer(cat_in_the_hat_docs,ngram_range=(1,2),preprocessor=my_cool_preprocessor)\n",
    "count_vector3=cv3.fit_transform(cat_in_the_hat_docs)"
   ]
  },
  {
   "cell_type": "markdown",
   "metadata": {},
   "source": [
    "## Defining Functions"
   ]
  },
  {
   "cell_type": "code",
   "execution_count": null,
   "metadata": {},
   "outputs": [],
   "source": [
    "# init stemmer\n",
    "porter_stemmer=PorterStemmer()\n",
    "\n",
    "def my_cool_preprocessor(text):\n",
    "    \n",
    "    text=text.lower() \n",
    "    text=re.sub(\"\\\\W\",\" \",text) # remove special chars\n",
    "    text=re.sub(\"\\\\s+(in|the|all|for|and|on)\\\\s+\",\" _connector_ \",text) # normalize certain words\n",
    "    \n",
    "    # stem words\n",
    "    words=re.split(\"\\\\s+\",text)\n",
    "    stemmed_words=[porter_stemmer.stem(word=word) for word in words]\n",
    "    return ' '.join(stemmed_words)\n"
   ]
  },
  {
   "cell_type": "code",
   "execution_count": 8,
   "metadata": {},
   "outputs": [],
   "source": [
    "def extract_features(df,field,training_data,testing_data,type=\"binary\"):\n",
    "    \"\"\"Extract features using different methods\"\"\"\n",
    "    \n",
    "#     logging.info(\"Extracting features and creating vocabulary...\")\n",
    "    \n",
    "    if \"binary\" in type:\n",
    "        \n",
    "        # BINARY FEATURE REPRESENTATION\n",
    "        cv= CountVectorizer(binary=True, max_df=0.95)\n",
    "        cv.fit_transform(training_data[field].values)\n",
    "        \n",
    "        train_feature_set=cv.transform(training_data[field].values)\n",
    "        test_feature_set=cv.transform(testing_data[field].values)\n",
    "        \n",
    "        return train_feature_set,test_feature_set,cv\n",
    "  \n",
    "    elif \"counts\" in type:\n",
    "        \n",
    "        # COUNT BASED FEATURE REPRESENTATION\n",
    "        cv= CountVectorizer(binary=False, max_df=0.95)\n",
    "        cv.fit_transform(training_data[field].values)\n",
    "        \n",
    "        train_feature_set=cv.transform(training_data[field].values)\n",
    "        test_feature_set=cv.transform(testing_data[field].values)\n",
    "        \n",
    "        return train_feature_set,test_feature_set,cv\n",
    "    \n",
    "    else:    \n",
    "        \n",
    "        # TF-IDF BASED FEATURE REPRESENTATION\n",
    "        tfidf_vectorizer=TfidfVectorizer(use_idf=True, max_df=0.95)\n",
    "        tfidf_vectorizer.fit_transform(training_data[field].values)\n",
    "        \n",
    "        train_feature_set=tfidf_vectorizer.transform(training_data[field].values)\n",
    "        test_feature_set=tfidf_vectorizer.transform(testing_data[field].values)\n",
    "        \n",
    "        return train_feature_set,test_feature_set,tfidf_vectorizer"
   ]
  },
  {
   "cell_type": "markdown",
   "metadata": {},
   "source": [
    "# Logistic Regression"
   ]
  },
  {
   "cell_type": "markdown",
   "metadata": {},
   "source": [
    "# Train model"
   ]
  },
  {
   "cell_type": "code",
   "execution_count": 9,
   "metadata": {},
   "outputs": [],
   "source": [
    "import numpy as np\n",
    "\n",
    "def get_top_k_predictions(model,X_test,k):\n",
    "    \n",
    "    # get probabilities instead of predicted labels, since we want to collect top 3\n",
    "    probs = model.predict_proba(X_test)\n",
    "\n",
    "    # GET TOP K PREDICTIONS BY PROB - note these are just index\n",
    "    best_n = np.argsort(probs, axis=1)[:,-k:]\n",
    "\n",
    "    # GET CATEGORY OF PREDICTIONS\n",
    "    preds=[[model.classes_[predicted_cat] for predicted_cat in prediction] for prediction in best_n]\n",
    "\n",
    "    # REVERSE CATEGORIES - DESCENDING ORDER OF IMPORTANCE\n",
    "    preds=[ item[::-1][0] for item in preds]\n",
    "\n",
    "    return preds\n"
   ]
  },
  {
   "cell_type": "code",
   "execution_count": 10,
   "metadata": {},
   "outputs": [
    {
     "data": {
      "text/html": [
       "<div>\n",
       "<style scoped>\n",
       "    .dataframe tbody tr th:only-of-type {\n",
       "        vertical-align: middle;\n",
       "    }\n",
       "\n",
       "    .dataframe tbody tr th {\n",
       "        vertical-align: top;\n",
       "    }\n",
       "\n",
       "    .dataframe thead th {\n",
       "        text-align: right;\n",
       "    }\n",
       "</style>\n",
       "<table border=\"1\" class=\"dataframe\">\n",
       "  <thead>\n",
       "    <tr style=\"text-align: right;\">\n",
       "      <th></th>\n",
       "      <th>Show_Number</th>\n",
       "      <th>Air_Date</th>\n",
       "      <th>Round</th>\n",
       "      <th>Category</th>\n",
       "      <th>Value</th>\n",
       "      <th>Question</th>\n",
       "      <th>Answer</th>\n",
       "      <th>value_order</th>\n",
       "      <th>text</th>\n",
       "      <th>value_order2</th>\n",
       "      <th>text2</th>\n",
       "    </tr>\n",
       "  </thead>\n",
       "  <tbody>\n",
       "    <tr>\n",
       "      <th>14045</th>\n",
       "      <td>3621</td>\n",
       "      <td>5/8/00</td>\n",
       "      <td>Double Jeopardy!</td>\n",
       "      <td>COUNTRIES BY CAPITAL</td>\n",
       "      <td>$200</td>\n",
       "      <td>In the Americas: Caracas</td>\n",
       "      <td>Venezuela</td>\n",
       "      <td>0</td>\n",
       "      <td>COUNTRIES BY CAPITAL Venezuela In the Americas...</td>\n",
       "      <td>0</td>\n",
       "      <td>COUNTRIES BY CAPITAL Venezuela In the Americas...</td>\n",
       "    </tr>\n",
       "    <tr>\n",
       "      <th>121857</th>\n",
       "      <td>6057</td>\n",
       "      <td>1/4/11</td>\n",
       "      <td>Jeopardy!</td>\n",
       "      <td>3 AGAINST 1</td>\n",
       "      <td>$200</td>\n",
       "      <td>British theater director Trevor, or ex-Georgia...</td>\n",
       "      <td>Nunn</td>\n",
       "      <td>0</td>\n",
       "      <td>3 AGAINST 1 Nunn British theater director Trev...</td>\n",
       "      <td>0</td>\n",
       "      <td>3 AGAINST 1 Nunn British theater director Trev...</td>\n",
       "    </tr>\n",
       "    <tr>\n",
       "      <th>149410</th>\n",
       "      <td>4240</td>\n",
       "      <td>1/24/03</td>\n",
       "      <td>Jeopardy!</td>\n",
       "      <td>PRESIDENTIAL RHYME TIME</td>\n",
       "      <td>$200</td>\n",
       "      <td>Clinton's aspirins</td>\n",
       "      <td>Bill's pills</td>\n",
       "      <td>0</td>\n",
       "      <td>PRESIDENTIAL RHYME TIME Bill's pills Clinton's...</td>\n",
       "      <td>0</td>\n",
       "      <td>PRESIDENTIAL RHYME TIME Bill's pills Clinton's...</td>\n",
       "    </tr>\n",
       "    <tr>\n",
       "      <th>74116</th>\n",
       "      <td>2824</td>\n",
       "      <td>12/5/96</td>\n",
       "      <td>Jeopardy!</td>\n",
       "      <td>LITERARY HODGEPODGE</td>\n",
       "      <td>$200</td>\n",
       "      <td>Once a naval historian in the south Pacific, h...</td>\n",
       "      <td>James Michener</td>\n",
       "      <td>0</td>\n",
       "      <td>LITERARY HODGEPODGE James Michener Once a nava...</td>\n",
       "      <td>0</td>\n",
       "      <td>LITERARY HODGEPODGE James Michener Once a nava...</td>\n",
       "    </tr>\n",
       "    <tr>\n",
       "      <th>185582</th>\n",
       "      <td>3078</td>\n",
       "      <td>1/7/98</td>\n",
       "      <td>Double Jeopardy!</td>\n",
       "      <td>DIBS!</td>\n",
       "      <td>$400</td>\n",
       "      <td>The Dutch had already sighted Australia, &amp; Abo...</td>\n",
       "      <td>Captain James Cook</td>\n",
       "      <td>1</td>\n",
       "      <td>DIBS! Captain James Cook The Dutch had already...</td>\n",
       "      <td>0</td>\n",
       "      <td>DIBS! Captain James Cook The Dutch had already...</td>\n",
       "    </tr>\n",
       "    <tr>\n",
       "      <th>...</th>\n",
       "      <td>...</td>\n",
       "      <td>...</td>\n",
       "      <td>...</td>\n",
       "      <td>...</td>\n",
       "      <td>...</td>\n",
       "      <td>...</td>\n",
       "      <td>...</td>\n",
       "      <td>...</td>\n",
       "      <td>...</td>\n",
       "      <td>...</td>\n",
       "      <td>...</td>\n",
       "    </tr>\n",
       "    <tr>\n",
       "      <th>26932</th>\n",
       "      <td>4892</td>\n",
       "      <td>12/13/05</td>\n",
       "      <td>Jeopardy!</td>\n",
       "      <td>NFL NICKNAMES</td>\n",
       "      <td>$1,000</td>\n",
       "      <td>\"Sweetness\"</td>\n",
       "      <td>Walter Payton</td>\n",
       "      <td>4</td>\n",
       "      <td>NFL NICKNAMES Walter Payton \"Sweetness\"</td>\n",
       "      <td>4</td>\n",
       "      <td>NFL NICKNAMES Walter Payton \"Sweetness\"</td>\n",
       "    </tr>\n",
       "    <tr>\n",
       "      <th>10940</th>\n",
       "      <td>3588</td>\n",
       "      <td>3/22/00</td>\n",
       "      <td>Double Jeopardy!</td>\n",
       "      <td>COUNTIES OF ENGLAND</td>\n",
       "      <td>$1,000</td>\n",
       "      <td>The westernmost county of England, or what the...</td>\n",
       "      <td>Cornwall</td>\n",
       "      <td>4</td>\n",
       "      <td>COUNTIES OF ENGLAND Cornwall The westernmost c...</td>\n",
       "      <td>4</td>\n",
       "      <td>COUNTIES OF ENGLAND Cornwall The westernmost c...</td>\n",
       "    </tr>\n",
       "    <tr>\n",
       "      <th>76032</th>\n",
       "      <td>5418</td>\n",
       "      <td>3/12/08</td>\n",
       "      <td>Double Jeopardy!</td>\n",
       "      <td>THROWDOWN WITH BOBBY FLAY</td>\n",
       "      <td>$2,000</td>\n",
       "      <td>(&lt;a href=\"http://www.j-archive.com/media/2008-...</td>\n",
       "      <td>caramelized</td>\n",
       "      <td>7</td>\n",
       "      <td>THROWDOWN WITH BOBBY FLAY caramelized (&lt;a href...</td>\n",
       "      <td>4</td>\n",
       "      <td>THROWDOWN WITH BOBBY FLAY caramelized (&lt;a href...</td>\n",
       "    </tr>\n",
       "    <tr>\n",
       "      <th>199752</th>\n",
       "      <td>2851</td>\n",
       "      <td>1/13/97</td>\n",
       "      <td>Double Jeopardy!</td>\n",
       "      <td>SCIENTISTS</td>\n",
       "      <td>$1,000</td>\n",
       "      <td>This Hungarian-American physicist was the prin...</td>\n",
       "      <td>Edward Teller</td>\n",
       "      <td>4</td>\n",
       "      <td>SCIENTISTS Edward Teller This Hungarian-Americ...</td>\n",
       "      <td>4</td>\n",
       "      <td>SCIENTISTS Edward Teller This Hungarian-Americ...</td>\n",
       "    </tr>\n",
       "    <tr>\n",
       "      <th>214807</th>\n",
       "      <td>5212</td>\n",
       "      <td>4/17/07</td>\n",
       "      <td>Jeopardy!</td>\n",
       "      <td>FOLKS ON SPORTS</td>\n",
       "      <td>$1,000</td>\n",
       "      <td>Jay Leno said, \"On his way home from Torino, h...</td>\n",
       "      <td>Bode Miller</td>\n",
       "      <td>4</td>\n",
       "      <td>FOLKS ON SPORTS Bode Miller Jay Leno said, \"On...</td>\n",
       "      <td>4</td>\n",
       "      <td>FOLKS ON SPORTS Bode Miller Jay Leno said, \"On...</td>\n",
       "    </tr>\n",
       "  </tbody>\n",
       "</table>\n",
       "<p>114780 rows × 11 columns</p>\n",
       "</div>"
      ],
      "text/plain": [
       "        Show_Number  Air_Date             Round                   Category  \\\n",
       "14045          3621    5/8/00  Double Jeopardy!       COUNTRIES BY CAPITAL   \n",
       "121857         6057    1/4/11         Jeopardy!                3 AGAINST 1   \n",
       "149410         4240   1/24/03         Jeopardy!    PRESIDENTIAL RHYME TIME   \n",
       "74116          2824   12/5/96         Jeopardy!        LITERARY HODGEPODGE   \n",
       "185582         3078    1/7/98  Double Jeopardy!                      DIBS!   \n",
       "...             ...       ...               ...                        ...   \n",
       "26932          4892  12/13/05         Jeopardy!              NFL NICKNAMES   \n",
       "10940          3588   3/22/00  Double Jeopardy!        COUNTIES OF ENGLAND   \n",
       "76032          5418   3/12/08  Double Jeopardy!  THROWDOWN WITH BOBBY FLAY   \n",
       "199752         2851   1/13/97  Double Jeopardy!                 SCIENTISTS   \n",
       "214807         5212   4/17/07         Jeopardy!            FOLKS ON SPORTS   \n",
       "\n",
       "          Value                                           Question  \\\n",
       "14045     $200                            In the Americas: Caracas   \n",
       "121857    $200   British theater director Trevor, or ex-Georgia...   \n",
       "149410    $200                                  Clinton's aspirins   \n",
       "74116     $200   Once a naval historian in the south Pacific, h...   \n",
       "185582    $400   The Dutch had already sighted Australia, & Abo...   \n",
       "...         ...                                                ...   \n",
       "26932   $1,000                                         \"Sweetness\"   \n",
       "10940   $1,000   The westernmost county of England, or what the...   \n",
       "76032   $2,000   (<a href=\"http://www.j-archive.com/media/2008-...   \n",
       "199752  $1,000   This Hungarian-American physicist was the prin...   \n",
       "214807  $1,000   Jay Leno said, \"On his way home from Torino, h...   \n",
       "\n",
       "                    Answer  value_order  \\\n",
       "14045            Venezuela            0   \n",
       "121857                Nunn            0   \n",
       "149410        Bill's pills            0   \n",
       "74116       James Michener            0   \n",
       "185582  Captain James Cook            1   \n",
       "...                    ...          ...   \n",
       "26932        Walter Payton            4   \n",
       "10940             Cornwall            4   \n",
       "76032          caramelized            7   \n",
       "199752       Edward Teller            4   \n",
       "214807         Bode Miller            4   \n",
       "\n",
       "                                                     text  value_order2  \\\n",
       "14045   COUNTRIES BY CAPITAL Venezuela In the Americas...             0   \n",
       "121857  3 AGAINST 1 Nunn British theater director Trev...             0   \n",
       "149410  PRESIDENTIAL RHYME TIME Bill's pills Clinton's...             0   \n",
       "74116   LITERARY HODGEPODGE James Michener Once a nava...             0   \n",
       "185582  DIBS! Captain James Cook The Dutch had already...             0   \n",
       "...                                                   ...           ...   \n",
       "26932             NFL NICKNAMES Walter Payton \"Sweetness\"             4   \n",
       "10940   COUNTIES OF ENGLAND Cornwall The westernmost c...             4   \n",
       "76032   THROWDOWN WITH BOBBY FLAY caramelized (<a href...             4   \n",
       "199752  SCIENTISTS Edward Teller This Hungarian-Americ...             4   \n",
       "214807  FOLKS ON SPORTS Bode Miller Jay Leno said, \"On...             4   \n",
       "\n",
       "                                                    text2  \n",
       "14045   COUNTRIES BY CAPITAL Venezuela In the Americas...  \n",
       "121857  3 AGAINST 1 Nunn British theater director Trev...  \n",
       "149410  PRESIDENTIAL RHYME TIME Bill's pills Clinton's...  \n",
       "74116   LITERARY HODGEPODGE James Michener Once a nava...  \n",
       "185582  DIBS! Captain James Cook The Dutch had already...  \n",
       "...                                                   ...  \n",
       "26932             NFL NICKNAMES Walter Payton \"Sweetness\"  \n",
       "10940   COUNTIES OF ENGLAND Cornwall The westernmost c...  \n",
       "76032   THROWDOWN WITH BOBBY FLAY caramelized (<a href...  \n",
       "199752  SCIENTISTS Edward Teller This Hungarian-Americ...  \n",
       "214807  FOLKS ON SPORTS Bode Miller Jay Leno said, \"On...  \n",
       "\n",
       "[114780 rows x 11 columns]"
      ]
     },
     "execution_count": 10,
     "metadata": {},
     "output_type": "execute_result"
    }
   ],
   "source": [
    "df_reg3"
   ]
  },
  {
   "cell_type": "code",
   "execution_count": 11,
   "metadata": {},
   "outputs": [],
   "source": [
    "# GET A TRAIN TEST SPLIT (set seed for consistent results)\n",
    "training_data, testing_data = train_test_split(df_reg3,random_state = 2000)\n",
    "\n",
    "# GET LABELS\n",
    "Y_train=training_data['value_order2'].values\n",
    "Y_test=testing_data['value_order2'].values\n",
    "     \n",
    "# GET FEATURES\n",
    "# field = 'Value'\n",
    "field = 'text2'\n",
    "X_train,X_test,feature_transformer=extract_features(df_reg3,field,training_data,testing_data,type=\"TF-IDF\")\n"
   ]
  },
  {
   "cell_type": "code",
   "execution_count": 12,
   "metadata": {},
   "outputs": [
    {
     "name": "stdout",
     "output_type": "stream",
     "text": [
      "[LibLinear]"
     ]
    }
   ],
   "source": [
    "# INIT LOGISTIC REGRESSION CLASSIFIER\n",
    "\n",
    "# logging.info(\"Training a Logistic Regression Model...\")\n",
    "scikit_log_reg = LogisticRegression(verbose=1, solver='liblinear',random_state=0, C=5, penalty='l2',max_iter=1000)\n",
    "\n",
    "model=scikit_log_reg.fit(X_train,Y_train)"
   ]
  },
  {
   "cell_type": "code",
   "execution_count": 13,
   "metadata": {},
   "outputs": [],
   "source": [
    "# GET TOP K PREDICTIONS\n",
    "from sklearn.metrics import accuracy_score\n",
    "from sklearn.metrics import confusion_matrix\n",
    "\n",
    "top_k = 1\n",
    "preds=get_top_k_predictions(model,X_test,top_k)\n",
    "    \n",
    "# GET PREDICTED VALUES AND GROUND TRUTH INTO A LIST OF LISTS\n",
    "# eval_items=collect_preds(Y_test,preds)\n",
    "    \n",
    "# GET EVALUATION NUMBERS ON TEST SET -- HOW DID WE DO?\n",
    "# logging.info(\"Starting evaluation...\")\n",
    "# accuracy=compute_accuracy(eval_items)\n",
    "# mrr_at_k=compute_mrr_at_k(eval_items)\n",
    "\n",
    "\n",
    "# accuracy = accuracy_score(Y_test, preds)"
   ]
  },
  {
   "cell_type": "code",
   "execution_count": 14,
   "metadata": {},
   "outputs": [
    {
     "name": "stdout",
     "output_type": "stream",
     "text": [
      "0.2167276529012023\n",
      "0.21639007702297622\n"
     ]
    }
   ],
   "source": [
    "from sklearn.metrics import f1_score\n",
    "\n",
    "accuracy = accuracy_score(Y_test.tolist(), preds)\n",
    "print(accuracy)\n",
    "\n",
    "f1 = f1_score(Y_test.tolist(), preds, average='weighted')\n",
    "print(f1)\n",
    "\n",
    "# confusion_matrix(Y_test.tolist(), preds)"
   ]
  },
  {
   "cell_type": "code",
   "execution_count": 16,
   "metadata": {},
   "outputs": [
    {
     "data": {
      "image/png": "[encoded data removed]",
      "text/plain": [
       "<Figure size 432x288 with 2 Axes>"
      ]
     },
     "metadata": {
      "needs_background": "light"
     },
     "output_type": "display_data"
    }
   ],
   "source": [
    "import seaborn as sns\n",
    "import matplotlib.pyplot as plt\n",
    "from sklearn.metrics import confusion_matrix\n",
    "\n",
    "amounts = [0, 1, 2, 3, 4]\n",
    "\n",
    "\n",
    "cm = confusion_matrix(Y_test.tolist(), preds ) #, labels=amounts)\n",
    "# Normalise\n",
    "cmn = cm.astype('float') / cm.sum(axis=1)[:, np.newaxis]\n",
    "cm_df = pd.DataFrame(cmn)\n",
    "cm_df.columns = amounts\n",
    "cm_df.columns.name = 'Predicted'\n",
    "cm_df.index = amounts\n",
    "cm_df.index.name = 'True'\n",
    "\n",
    "fig = plt.figure()\n",
    "ax = fig.add_subplot(111)\n",
    "\n",
    "ax.set_xticklabels([''] + amounts)\n",
    "ax.set_yticklabels([''] + amounts)\n",
    "\n",
    "plt.xlabel('Predicted')\n",
    "plt.ylabel('True')\n",
    "\n",
    "sns.heatmap(cm_df, annot=True)\n",
    "\n",
    "plt.title('Actual vs. Predicted Values \\n')\n",
    "plt.show()"
   ]
  },
  {
   "cell_type": "markdown",
   "metadata": {},
   "source": [
    "# Pre-Trained Models: Bert"
   ]
  },
  {
   "cell_type": "code",
   "execution_count": null,
   "metadata": {},
   "outputs": [],
   "source": [
    "!pip install \"simpletransformers==0.60.9\""
   ]
  },
  {
   "cell_type": "code",
   "execution_count": 10,
   "metadata": {},
   "outputs": [],
   "source": [
    "# GET A TRAIN TEST SPLIT (set seed for consistent results)\n",
    "training_data, testing_data = train_test_split(df_reg3,random_state = 2000)\n",
    "testing = testing_data[['text2', 'value_order']]\n",
    "training = training_data[['text2', 'value_order']]"
   ]
  },
  {
   "cell_type": "code",
   "execution_count": 57,
   "metadata": {},
   "outputs": [
    {
     "name": "stderr",
     "output_type": "stream",
     "text": [
      "Some weights of the model checkpoint at distilbert-base-uncased were not used when initializing DistilBertForSequenceClassification: ['vocab_transform.weight', 'vocab_transform.bias', 'vocab_layer_norm.weight', 'vocab_layer_norm.bias', 'vocab_projector.weight', 'vocab_projector.bias']\n",
      "- This IS expected if you are initializing DistilBertForSequenceClassification from the checkpoint of a model trained on another task or with another architecture (e.g. initializing a BertForSequenceClassification model from a BertForPreTraining model).\n",
      "- This IS NOT expected if you are initializing DistilBertForSequenceClassification from the checkpoint of a model that you expect to be exactly identical (initializing a BertForSequenceClassification model from a BertForSequenceClassification model).\n",
      "Some weights of DistilBertForSequenceClassification were not initialized from the model checkpoint at distilbert-base-uncased and are newly initialized: ['pre_classifier.weight', 'pre_classifier.bias', 'classifier.weight', 'classifier.bias']\n",
      "You should probably TRAIN this model on a down-stream task to be able to use it for predictions and inference.\n"
     ]
    }
   ],
   "source": [
    "\n",
    "model_args = ClassificationArgs(num_train_epochs=2,\n",
    "                               overwrite_output_dir=True)\n",
    "\n",
    "#Create a ClassificationModel\n",
    "model = ClassificationModel(\n",
    "                            'distilbert', 'distilbert-base-uncased',\n",
    "                            num_labels=8,\n",
    "                            args=model_args)"
   ]
  },
  {
   "cell_type": "code",
   "execution_count": 58,
   "metadata": {},
   "outputs": [
    {
     "data": {
      "application/vnd.jupyter.widget-view+json": {
       "model_id": "987180615e164f019d19e6f0854b132c",
       "version_major": 2,
       "version_minor": 0
      },
      "text/plain": [
       "HBox(children=(FloatProgress(value=0.0, max=77.0), HTML(value='')))"
      ]
     },
     "metadata": {},
     "output_type": "display_data"
    },
    {
     "name": "stdout",
     "output_type": "stream",
     "text": [
      "\n"
     ]
    },
    {
     "data": {
      "application/vnd.jupyter.widget-view+json": {
       "model_id": "a8db041f2d124f278e811141dfb91677",
       "version_major": 2,
       "version_minor": 0
      },
      "text/plain": [
       "HBox(children=(FloatProgress(value=0.0, description='Epoch', max=2.0, style=ProgressStyle(description_width='i…"
      ]
     },
     "metadata": {},
     "output_type": "display_data"
    },
    {
     "data": {
      "application/vnd.jupyter.widget-view+json": {
       "model_id": "ed8c2e5bc2584e139fd431488b8a4c6f",
       "version_major": 2,
       "version_minor": 0
      },
      "text/plain": [
       "HBox(children=(FloatProgress(value=0.0, description='Running Epoch 0 of 2', max=10761.0, style=ProgressStyle(d…"
      ]
     },
     "metadata": {},
     "output_type": "display_data"
    },
    {
     "name": "stdout",
     "output_type": "stream",
     "text": [
      "\n"
     ]
    },
    {
     "data": {
      "application/vnd.jupyter.widget-view+json": {
       "model_id": "85fa77dc745944edb87db5390ba4198f",
       "version_major": 2,
       "version_minor": 0
      },
      "text/plain": [
       "HBox(children=(FloatProgress(value=0.0, description='Running Epoch 1 of 2', max=10761.0, style=ProgressStyle(d…"
      ]
     },
     "metadata": {},
     "output_type": "display_data"
    },
    {
     "name": "stdout",
     "output_type": "stream",
     "text": [
      "\n",
      "\n"
     ]
    },
    {
     "data": {
      "text/plain": [
       "(21522, 1.9777870533103206)"
      ]
     },
     "execution_count": 58,
     "metadata": {},
     "output_type": "execute_result"
    }
   ],
   "source": [
    "model.train_model(training, output_dir = 'question_answer_output')"
   ]
  },
  {
   "cell_type": "code",
   "execution_count": 8,
   "metadata": {},
   "outputs": [],
   "source": [
    "##############################\n",
    "# How to reload model once it's already trained\n",
    "\n",
    "model = ClassificationModel(\"distilbert\", \"question_answer_output/checkpoint-21522-epoch-2\")"
   ]
  },
  {
   "cell_type": "code",
   "execution_count": 11,
   "metadata": {},
   "outputs": [
    {
     "name": "stderr",
     "output_type": "stream",
     "text": [
      "/home/awisk/.local/lib/python3.8/site-packages/simpletransformers/classification/classification_model.py:1025: UserWarning: Dataframe headers not specified. Falling back to using column 0 as text and column 1 as labels.\n",
      "  warnings.warn(\n"
     ]
    },
    {
     "data": {
      "application/vnd.jupyter.widget-view+json": {
       "model_id": "bb453593b905448d90f63fce0282d7e5",
       "version_major": 2,
       "version_minor": 0
      },
      "text/plain": [
       "HBox(children=(FloatProgress(value=0.0, description='Running Evaluation', max=3587.0, style=ProgressStyle(desc…"
      ]
     },
     "metadata": {},
     "output_type": "display_data"
    },
    {
     "name": "stdout",
     "output_type": "stream",
     "text": [
      "\n"
     ]
    },
    {
     "data": {
      "text/plain": [
       "{'mcc': 0.0659090956000719, 'eval_loss': 1.9511454489558795}"
      ]
     },
     "execution_count": 11,
     "metadata": {},
     "output_type": "execute_result"
    }
   ],
   "source": [
    "scores1, model_outputs, wrong_predictions = model.eval_model(testing)\n",
    "scores1"
   ]
  },
  {
   "cell_type": "code",
   "execution_count": 12,
   "metadata": {},
   "outputs": [],
   "source": [
    "from sklearn.metrics import f1_score, accuracy_score\n",
    "def f1_multiclass(labels, preds):\n",
    "    return f1_score(labels, preds, average='micro')\n"
   ]
  },
  {
   "cell_type": "code",
   "execution_count": 13,
   "metadata": {},
   "outputs": [
    {
     "data": {
      "application/vnd.jupyter.widget-view+json": {
       "model_id": "3be445abba6c40618d7193411cf1094f",
       "version_major": 2,
       "version_minor": 0
      },
      "text/plain": [
       "HBox(children=(FloatProgress(value=0.0, description='Running Evaluation', max=3587.0, style=ProgressStyle(desc…"
      ]
     },
     "metadata": {},
     "output_type": "display_data"
    },
    {
     "name": "stdout",
     "output_type": "stream",
     "text": [
      "\n"
     ]
    },
    {
     "data": {
      "text/plain": [
       "{'mcc': 0.0659090956000719,\n",
       " 'f1': 0.23052796654469418,\n",
       " 'acc': 0.2305279665446942,\n",
       " 'eval_loss': 1.9511454489558795}"
      ]
     },
     "execution_count": 13,
     "metadata": {},
     "output_type": "execute_result"
    }
   ],
   "source": [
    "scores2, model_outputs, wrong_predictions = model.eval_model(testing, f1=f1_multiclass, acc=accuracy_score)\n",
    "scores2"
   ]
  },
  {
   "cell_type": "code",
   "execution_count": 14,
   "metadata": {},
   "outputs": [
    {
     "data": {
      "application/vnd.jupyter.widget-view+json": {
       "model_id": "3b09bb6b6bf7459f95b519f393142a3b",
       "version_major": 2,
       "version_minor": 0
      },
      "text/plain": [
       "HBox(children=(FloatProgress(value=0.0, max=3587.0), HTML(value='')))"
      ]
     },
     "metadata": {},
     "output_type": "display_data"
    },
    {
     "name": "stdout",
     "output_type": "stream",
     "text": [
      "\n"
     ]
    }
   ],
   "source": [
    "predictions, raw_outputs = model.predict(testing.iloc[:,0].tolist())"
   ]
  },
  {
   "cell_type": "code",
   "execution_count": 16,
   "metadata": {},
   "outputs": [
    {
     "data": {
      "image/png": "[encoded data removed]",
      "text/plain": [
       "<Figure size 432x288 with 2 Axes>"
      ]
     },
     "metadata": {
      "needs_background": "light"
     },
     "output_type": "display_data"
    }
   ],
   "source": [
    "import seaborn as sns\n",
    "import matplotlib.pyplot as plt\n",
    "from sklearn.metrics import confusion_matrix\n",
    "\n",
    "\n",
    "amounts2 = [0, 1, 2, 3, 4, 5, 6, 7]\n",
    "\n",
    "cm = confusion_matrix(testing.iloc[:,1].tolist(), predictions ) #, labels=amounts)\n",
    "# Normalise\n",
    "cmn = cm.astype('float') / cm.sum(axis=1)[:, np.newaxis]\n",
    "cm_df = pd.DataFrame(cmn)\n",
    "cm_df.columns = amounts2\n",
    "cm_df.columns.name = 'Predicted'\n",
    "cm_df.index = amounts2\n",
    "cm_df.index.name = 'True'\n",
    "\n",
    "fig = plt.figure()\n",
    "ax = fig.add_subplot(111)\n",
    "\n",
    "ax.set_xticklabels([''] + amounts2)\n",
    "ax.set_yticklabels([''] + amounts2)\n",
    "\n",
    "plt.xlabel('Predicted')\n",
    "plt.ylabel('True')\n",
    "\n",
    "sns.heatmap(cm_df, annot=True)\n",
    "\n",
    "plt.title('Actual vs. Predicted Values \\n')\n",
    "plt.show()"
   ]
  },
  {
   "cell_type": "markdown",
   "metadata": {},
   "source": [
    "## BERT Version 2"
   ]
  },
  {
   "cell_type": "code",
   "execution_count": 19,
   "metadata": {},
   "outputs": [
    {
     "data": {
      "text/html": [
       "<div>\n",
       "<style scoped>\n",
       "    .dataframe tbody tr th:only-of-type {\n",
       "        vertical-align: middle;\n",
       "    }\n",
       "\n",
       "    .dataframe tbody tr th {\n",
       "        vertical-align: top;\n",
       "    }\n",
       "\n",
       "    .dataframe thead th {\n",
       "        text-align: right;\n",
       "    }\n",
       "</style>\n",
       "<table border=\"1\" class=\"dataframe\">\n",
       "  <thead>\n",
       "    <tr style=\"text-align: right;\">\n",
       "      <th></th>\n",
       "      <th>text2</th>\n",
       "      <th>value_order2</th>\n",
       "    </tr>\n",
       "  </thead>\n",
       "  <tbody>\n",
       "    <tr>\n",
       "      <th>109443</th>\n",
       "      <td>BRAND NAMES Nikon The company that sold Nikkor...</td>\n",
       "      <td>1</td>\n",
       "    </tr>\n",
       "    <tr>\n",
       "      <th>191689</th>\n",
       "      <td>HUMPTY DUMPTY Tori Amos \"Cornflake Girl' who w...</td>\n",
       "      <td>2</td>\n",
       "    </tr>\n",
       "    <tr>\n",
       "      <th>68421</th>\n",
       "      <td>STATE MOTTOES New York \"Excelsior\"</td>\n",
       "      <td>2</td>\n",
       "    </tr>\n",
       "    <tr>\n",
       "      <th>107944</th>\n",
       "      <td>SYMPHONY SPACE the Royal Albert Hall In 2008 t...</td>\n",
       "      <td>1</td>\n",
       "    </tr>\n",
       "    <tr>\n",
       "      <th>62466</th>\n",
       "      <td>ORIGINAL PRANKSTA the Cardiff Giant Unearthed ...</td>\n",
       "      <td>4</td>\n",
       "    </tr>\n",
       "    <tr>\n",
       "      <th>...</th>\n",
       "      <td>...</td>\n",
       "      <td>...</td>\n",
       "    </tr>\n",
       "    <tr>\n",
       "      <th>634</th>\n",
       "      <td>\"T\"ELEVISION Touched by an Angel Reminiscent o...</td>\n",
       "      <td>1</td>\n",
       "    </tr>\n",
       "    <tr>\n",
       "      <th>6717</th>\n",
       "      <td>GETTING TICKED OFF Bismarck Jealous of this Pr...</td>\n",
       "      <td>3</td>\n",
       "    </tr>\n",
       "    <tr>\n",
       "      <th>47743</th>\n",
       "      <td>ETHICS bioethics Washington Hospital Center ha...</td>\n",
       "      <td>2</td>\n",
       "    </tr>\n",
       "    <tr>\n",
       "      <th>78589</th>\n",
       "      <td>FOREIGN FOOD breakfast Meal at which you'd nor...</td>\n",
       "      <td>1</td>\n",
       "    </tr>\n",
       "    <tr>\n",
       "      <th>205447</th>\n",
       "      <td>CLASSIC TEEN CINEMA Rydell High Honoring a roc...</td>\n",
       "      <td>4</td>\n",
       "    </tr>\n",
       "  </tbody>\n",
       "</table>\n",
       "<p>86085 rows × 2 columns</p>\n",
       "</div>"
      ],
      "text/plain": [
       "                                                    text2  value_order2\n",
       "109443  BRAND NAMES Nikon The company that sold Nikkor...             1\n",
       "191689  HUMPTY DUMPTY Tori Amos \"Cornflake Girl' who w...             2\n",
       "68421                  STATE MOTTOES New York \"Excelsior\"             2\n",
       "107944  SYMPHONY SPACE the Royal Albert Hall In 2008 t...             1\n",
       "62466   ORIGINAL PRANKSTA the Cardiff Giant Unearthed ...             4\n",
       "...                                                   ...           ...\n",
       "634     \"T\"ELEVISION Touched by an Angel Reminiscent o...             1\n",
       "6717    GETTING TICKED OFF Bismarck Jealous of this Pr...             3\n",
       "47743   ETHICS bioethics Washington Hospital Center ha...             2\n",
       "78589   FOREIGN FOOD breakfast Meal at which you'd nor...             1\n",
       "205447  CLASSIC TEEN CINEMA Rydell High Honoring a roc...             4\n",
       "\n",
       "[86085 rows x 2 columns]"
      ]
     },
     "execution_count": 19,
     "metadata": {},
     "output_type": "execute_result"
    }
   ],
   "source": [
    "# GET A TRAIN TEST SPLIT (set seed for consistent results)\n",
    "training_data, testing_data = train_test_split(df_bert2,random_state = 2000)\n",
    "training = training_data[['text2', 'value_order2']]\n",
    "testing = testing_data[['text2', 'value_order2']]\n",
    "training"
   ]
  },
  {
   "cell_type": "code",
   "execution_count": 35,
   "metadata": {},
   "outputs": [
    {
     "name": "stderr",
     "output_type": "stream",
     "text": [
      "Some weights of the model checkpoint at distilbert-base-uncased were not used when initializing DistilBertForSequenceClassification: ['vocab_transform.weight', 'vocab_transform.bias', 'vocab_layer_norm.weight', 'vocab_layer_norm.bias', 'vocab_projector.weight', 'vocab_projector.bias']\n",
      "- This IS expected if you are initializing DistilBertForSequenceClassification from the checkpoint of a model trained on another task or with another architecture (e.g. initializing a BertForSequenceClassification model from a BertForPreTraining model).\n",
      "- This IS NOT expected if you are initializing DistilBertForSequenceClassification from the checkpoint of a model that you expect to be exactly identical (initializing a BertForSequenceClassification model from a BertForSequenceClassification model).\n",
      "Some weights of DistilBertForSequenceClassification were not initialized from the model checkpoint at distilbert-base-uncased and are newly initialized: ['pre_classifier.weight', 'pre_classifier.bias', 'classifier.weight', 'classifier.bias']\n",
      "You should probably TRAIN this model on a down-stream task to be able to use it for predictions and inference.\n"
     ]
    }
   ],
   "source": [
    "model_args = ClassificationArgs(num_train_epochs=2,\n",
    "#                                 max_seq_length = 1024,\n",
    "                               overwrite_output_dir=True)\n",
    "\n",
    "#Create a ClassificationModel\n",
    "model = ClassificationModel(\n",
    "                            'distilbert', 'distilbert-base-uncased',\n",
    "#                             'scibert', 'allenai/scibert_scivocab_uncased',                      \n",
    "                            num_labels=5,\n",
    "                            args=model_args)"
   ]
  },
  {
   "cell_type": "code",
   "execution_count": 36,
   "metadata": {},
   "outputs": [
    {
     "name": "stderr",
     "output_type": "stream",
     "text": [
      "/home/awisk/.local/lib/python3.8/site-packages/simpletransformers/classification/classification_model.py:445: UserWarning: Dataframe headers not specified. Falling back to using column 0 as text and column 1 as labels.\n",
      "  warnings.warn(\n"
     ]
    },
    {
     "data": {
      "application/vnd.jupyter.widget-view+json": {
       "model_id": "29d4fe965f864335a39361e99e907c82",
       "version_major": 2,
       "version_minor": 0
      },
      "text/plain": [
       "HBox(children=(FloatProgress(value=0.0, max=77.0), HTML(value='')))"
      ]
     },
     "metadata": {},
     "output_type": "display_data"
    },
    {
     "name": "stdout",
     "output_type": "stream",
     "text": [
      "\n"
     ]
    },
    {
     "data": {
      "application/vnd.jupyter.widget-view+json": {
       "model_id": "473688c706584ba0be04d046eb4d08db",
       "version_major": 2,
       "version_minor": 0
      },
      "text/plain": [
       "HBox(children=(FloatProgress(value=0.0, description='Epoch', max=2.0, style=ProgressStyle(description_width='i…"
      ]
     },
     "metadata": {},
     "output_type": "display_data"
    },
    {
     "data": {
      "application/vnd.jupyter.widget-view+json": {
       "model_id": "808e18f42ac04f8bb7abddb7400c91dd",
       "version_major": 2,
       "version_minor": 0
      },
      "text/plain": [
       "HBox(children=(FloatProgress(value=0.0, description='Running Epoch 0 of 2', max=10761.0, style=ProgressStyle(d…"
      ]
     },
     "metadata": {},
     "output_type": "display_data"
    },
    {
     "name": "stdout",
     "output_type": "stream",
     "text": [
      "\n"
     ]
    },
    {
     "data": {
      "application/vnd.jupyter.widget-view+json": {
       "model_id": "e25109a74e62420380a5176a772c7491",
       "version_major": 2,
       "version_minor": 0
      },
      "text/plain": [
       "HBox(children=(FloatProgress(value=0.0, description='Running Epoch 1 of 2', max=10761.0, style=ProgressStyle(d…"
      ]
     },
     "metadata": {},
     "output_type": "display_data"
    },
    {
     "name": "stdout",
     "output_type": "stream",
     "text": [
      "\n",
      "\n"
     ]
    },
    {
     "data": {
      "text/plain": [
       "(21522, 1.5808934402193304)"
      ]
     },
     "execution_count": 36,
     "metadata": {},
     "output_type": "execute_result"
    }
   ],
   "source": [
    "model.train_model(training, output_dir = 'value_5_output')"
   ]
  },
  {
   "cell_type": "code",
   "execution_count": 30,
   "metadata": {},
   "outputs": [],
   "source": [
    "##############################\n",
    "# How to reload model once it's already trained\n",
    "\n",
    "model = ClassificationModel(\n",
    "    \"distilbert\", \"value_5_output/checkpoint-21522-epoch-2\"\n",
    ")"
   ]
  },
  {
   "cell_type": "code",
   "execution_count": 22,
   "metadata": {},
   "outputs": [
    {
     "name": "stderr",
     "output_type": "stream",
     "text": [
      "/home/awisk/.local/lib/python3.8/site-packages/simpletransformers/classification/classification_model.py:1025: UserWarning: Dataframe headers not specified. Falling back to using column 0 as text and column 1 as labels.\n",
      "  warnings.warn(\n"
     ]
    },
    {
     "data": {
      "application/vnd.jupyter.widget-view+json": {
       "model_id": "4d26180c34c34af89dd1406712a8e6e3",
       "version_major": 2,
       "version_minor": 0
      },
      "text/plain": [
       "HBox(children=(FloatProgress(value=0.0, description='Running Evaluation', max=3587.0, style=ProgressStyle(desc…"
      ]
     },
     "metadata": {},
     "output_type": "display_data"
    },
    {
     "name": "stdout",
     "output_type": "stream",
     "text": [
      "\n"
     ]
    },
    {
     "data": {
      "text/plain": [
       "{'mcc': 0.09923540377777623, 'eval_loss': 1.5662460075569313}"
      ]
     },
     "execution_count": 22,
     "metadata": {},
     "output_type": "execute_result"
    }
   ],
   "source": [
    "scores1, model_outputs, wrong_predictions = model.eval_model(testing)\n",
    "scores1"
   ]
  },
  {
   "cell_type": "code",
   "execution_count": 38,
   "metadata": {},
   "outputs": [
    {
     "data": {
      "application/vnd.jupyter.widget-view+json": {
       "model_id": "d75c2a136d0b4ccc9afb446ec2c997ab",
       "version_major": 2,
       "version_minor": 0
      },
      "text/plain": [
       "HBox(children=(FloatProgress(value=0.0, description='Running Evaluation', max=3587.0, style=ProgressStyle(desc…"
      ]
     },
     "metadata": {},
     "output_type": "display_data"
    },
    {
     "name": "stdout",
     "output_type": "stream",
     "text": [
      "\n"
     ]
    },
    {
     "data": {
      "text/plain": [
       "{'mcc': 0.06845732061419518,\n",
       " 'f1': 0.25370273566823487,\n",
       " 'acc': 0.25370273566823487,\n",
       " 'eval_loss': 1.593196719876564}"
      ]
     },
     "execution_count": 38,
     "metadata": {},
     "output_type": "execute_result"
    }
   ],
   "source": [
    "scores2, model_outputs, wrong_predictions = model.eval_model(testing, f1=f1_multiclass, acc=accuracy_score)\n",
    "scores2"
   ]
  },
  {
   "cell_type": "code",
   "execution_count": 43,
   "metadata": {},
   "outputs": [
    {
     "data": {
      "text/html": [
       "<div>\n",
       "<style scoped>\n",
       "    .dataframe tbody tr th:only-of-type {\n",
       "        vertical-align: middle;\n",
       "    }\n",
       "\n",
       "    .dataframe tbody tr th {\n",
       "        vertical-align: top;\n",
       "    }\n",
       "\n",
       "    .dataframe thead th {\n",
       "        text-align: right;\n",
       "    }\n",
       "</style>\n",
       "<table border=\"1\" class=\"dataframe\">\n",
       "  <thead>\n",
       "    <tr style=\"text-align: right;\">\n",
       "      <th></th>\n",
       "      <th>text2</th>\n",
       "    </tr>\n",
       "  </thead>\n",
       "  <tbody>\n",
       "    <tr>\n",
       "      <th>40981</th>\n",
       "      <td>ON YOUR SLEEVE tattoos Actor Dwayne Johnson ha...</td>\n",
       "    </tr>\n",
       "    <tr>\n",
       "      <th>101154</th>\n",
       "      <td>COMMON BONDS knives Butter, Carving, Steak</td>\n",
       "    </tr>\n",
       "    <tr>\n",
       "      <th>75398</th>\n",
       "      <td>REPORTING FROM THE WHITE HOUSE the Camp David ...</td>\n",
       "    </tr>\n",
       "    <tr>\n",
       "      <th>18548</th>\n",
       "      <td>MUSICAL DICTIONARY the bell The wide end of a ...</td>\n",
       "    </tr>\n",
       "    <tr>\n",
       "      <th>31983</th>\n",
       "      <td>LITERATI William Faulkner This writer's great-...</td>\n",
       "    </tr>\n",
       "    <tr>\n",
       "      <th>...</th>\n",
       "      <td>...</td>\n",
       "    </tr>\n",
       "    <tr>\n",
       "      <th>157260</th>\n",
       "      <td>EDIBLE COMMON BONDS sauces Brown, beurre-blanc...</td>\n",
       "    </tr>\n",
       "    <tr>\n",
       "      <th>48133</th>\n",
       "      <td>GO TELL IT ON THE MOUNTAIN the Sierra Madre Yo...</td>\n",
       "    </tr>\n",
       "    <tr>\n",
       "      <th>61635</th>\n",
       "      <td>CAPITAL RIVERS the Mekong Vientiane</td>\n",
       "    </tr>\n",
       "    <tr>\n",
       "      <th>190137</th>\n",
       "      <td>A LITTLE \"R\" &amp; \"R\" Rhodesian Ridgeback This po...</td>\n",
       "    </tr>\n",
       "    <tr>\n",
       "      <th>201294</th>\n",
       "      <td>ROSE IS A ROSE leaves As a rule, rose stems sh...</td>\n",
       "    </tr>\n",
       "  </tbody>\n",
       "</table>\n",
       "<p>28695 rows × 1 columns</p>\n",
       "</div>"
      ],
      "text/plain": [
       "                                                    text2\n",
       "40981   ON YOUR SLEEVE tattoos Actor Dwayne Johnson ha...\n",
       "101154         COMMON BONDS knives Butter, Carving, Steak\n",
       "75398   REPORTING FROM THE WHITE HOUSE the Camp David ...\n",
       "18548   MUSICAL DICTIONARY the bell The wide end of a ...\n",
       "31983   LITERATI William Faulkner This writer's great-...\n",
       "...                                                   ...\n",
       "157260  EDIBLE COMMON BONDS sauces Brown, beurre-blanc...\n",
       "48133   GO TELL IT ON THE MOUNTAIN the Sierra Madre Yo...\n",
       "61635                 CAPITAL RIVERS the Mekong Vientiane\n",
       "190137  A LITTLE \"R\" & \"R\" Rhodesian Ridgeback This po...\n",
       "201294  ROSE IS A ROSE leaves As a rule, rose stems sh...\n",
       "\n",
       "[28695 rows x 1 columns]"
      ]
     },
     "execution_count": 43,
     "metadata": {},
     "output_type": "execute_result"
    }
   ],
   "source": [
    "testing.iloc[:,[0]]"
   ]
  },
  {
   "cell_type": "code",
   "execution_count": 31,
   "metadata": {},
   "outputs": [
    {
     "data": {
      "application/vnd.jupyter.widget-view+json": {
       "model_id": "53482768221f439fa3e9c5f7f8b3c434",
       "version_major": 2,
       "version_minor": 0
      },
      "text/plain": [
       "HBox(children=(FloatProgress(value=0.0, max=3587.0), HTML(value='')))"
      ]
     },
     "metadata": {},
     "output_type": "display_data"
    },
    {
     "name": "stdout",
     "output_type": "stream",
     "text": [
      "\n"
     ]
    }
   ],
   "source": [
    "predictions, raw_outputs = model.predict(testing.iloc[:,0].tolist())"
   ]
  },
  {
   "cell_type": "code",
   "execution_count": 34,
   "metadata": {},
   "outputs": [
    {
     "data": {
      "text/plain": [
       "array([[ 0.56445312,  0.23608398,  0.04830933, -0.53027344, -0.27197266],\n",
       "       [ 0.89648438,  0.46533203,  0.07568359, -0.54492188, -0.71191406],\n",
       "       [ 0.1907959 ,  0.10021973,  0.00317383, -0.63476562,  0.24682617],\n",
       "       ...,\n",
       "       [-0.27563477, -0.05963135,  0.08544922,  0.21728516, -0.00338936],\n",
       "       [-0.45043945, -0.04782104,  0.18041992,  0.4050293 , -0.10772705],\n",
       "       [ 0.91503906,  0.40649414,  0.04641724, -0.60009766, -0.61914062]])"
      ]
     },
     "execution_count": 34,
     "metadata": {},
     "output_type": "execute_result"
    }
   ],
   "source": [
    "raw_outputs"
   ]
  },
  {
   "cell_type": "code",
   "execution_count": 32,
   "metadata": {},
   "outputs": [
    {
     "data": {
      "image/png": "[encoded data removed]",
      "text/plain": [
       "<Figure size 432x288 with 2 Axes>"
      ]
     },
     "metadata": {
      "needs_background": "light"
     },
     "output_type": "display_data"
    }
   ],
   "source": [
    "import seaborn as sns\n",
    "import matplotlib.pyplot as plt\n",
    "from sklearn.metrics import confusion_matrix\n",
    "\n",
    "\n",
    "amounts2 = [0, 1, 2, 3, 4]\n",
    "\n",
    "cm = confusion_matrix(testing.iloc[:,1].tolist(), predictions ) #, labels=amounts)\n",
    "# Normalise\n",
    "cmn = cm.astype('float') / cm.sum(axis=1)[:, np.newaxis]\n",
    "cm_df = pd.DataFrame(cmn)\n",
    "cm_df.columns = amounts2\n",
    "cm_df.columns.name = 'Predicted'\n",
    "cm_df.index = amounts2\n",
    "cm_df.index.name = 'True'\n",
    "\n",
    "fig = plt.figure()\n",
    "ax = fig.add_subplot(111)\n",
    "\n",
    "ax.set_xticklabels([''] + amounts2)\n",
    "ax.set_yticklabels([''] + amounts2)\n",
    "\n",
    "plt.xlabel('Predicted')\n",
    "plt.ylabel('True')\n",
    "\n",
    "sns.heatmap(cm_df, annot=True)\n",
    "\n",
    "plt.title('Actual vs. Predicted Values \\n')\n",
    "plt.show()"
   ]
  },
  {
   "cell_type": "markdown",
   "metadata": {},
   "source": [
    "# SciBERT"
   ]
  },
  {
   "cell_type": "code",
   "execution_count": 47,
   "metadata": {},
   "outputs": [
    {
     "name": "stderr",
     "output_type": "stream",
     "text": [
      "Some weights of the model checkpoint at allenai/scibert_scivocab_uncased were not used when initializing BertForSequenceClassification: ['cls.predictions.bias', 'cls.predictions.transform.dense.weight', 'cls.predictions.transform.dense.bias', 'cls.predictions.transform.LayerNorm.weight', 'cls.predictions.transform.LayerNorm.bias', 'cls.predictions.decoder.weight', 'cls.predictions.decoder.bias', 'cls.seq_relationship.weight', 'cls.seq_relationship.bias']\n",
      "- This IS expected if you are initializing BertForSequenceClassification from the checkpoint of a model trained on another task or with another architecture (e.g. initializing a BertForSequenceClassification model from a BertForPreTraining model).\n",
      "- This IS NOT expected if you are initializing BertForSequenceClassification from the checkpoint of a model that you expect to be exactly identical (initializing a BertForSequenceClassification model from a BertForSequenceClassification model).\n",
      "Some weights of BertForSequenceClassification were not initialized from the model checkpoint at allenai/scibert_scivocab_uncased and are newly initialized: ['classifier.weight', 'classifier.bias']\n",
      "You should probably TRAIN this model on a down-stream task to be able to use it for predictions and inference.\n"
     ]
    }
   ],
   "source": [
    "model_args = ClassificationArgs(num_train_epochs=2,\n",
    "                               overwrite_output_dir=True)\n",
    "\n",
    "#Create a ClassificationModel\n",
    "model = ClassificationModel(\n",
    "                            'bert', 'allenai/scibert_scivocab_uncased',                      \n",
    "                            num_labels=5,\n",
    "                            args=model_args)"
   ]
  },
  {
   "cell_type": "code",
   "execution_count": 48,
   "metadata": {},
   "outputs": [
    {
     "name": "stderr",
     "output_type": "stream",
     "text": [
      "/home/awisk/.local/lib/python3.8/site-packages/simpletransformers/classification/classification_model.py:445: UserWarning: Dataframe headers not specified. Falling back to using column 0 as text and column 1 as labels.\n",
      "  warnings.warn(\n"
     ]
    },
    {
     "data": {
      "application/vnd.jupyter.widget-view+json": {
       "model_id": "c2f75f0060af466db705515dd889c331",
       "version_major": 2,
       "version_minor": 0
      },
      "text/plain": [
       "HBox(children=(FloatProgress(value=0.0, max=77.0), HTML(value='')))"
      ]
     },
     "metadata": {},
     "output_type": "display_data"
    },
    {
     "name": "stdout",
     "output_type": "stream",
     "text": [
      "\n"
     ]
    },
    {
     "data": {
      "application/vnd.jupyter.widget-view+json": {
       "model_id": "671d746f72ac4a8289fe6c9b408cf3b4",
       "version_major": 2,
       "version_minor": 0
      },
      "text/plain": [
       "HBox(children=(FloatProgress(value=0.0, description='Epoch', max=2.0, style=ProgressStyle(description_width='i…"
      ]
     },
     "metadata": {},
     "output_type": "display_data"
    },
    {
     "data": {
      "application/vnd.jupyter.widget-view+json": {
       "model_id": "d9612be27b06453eb11963d76c7bb8a2",
       "version_major": 2,
       "version_minor": 0
      },
      "text/plain": [
       "HBox(children=(FloatProgress(value=0.0, description='Running Epoch 0 of 2', max=10761.0, style=ProgressStyle(d…"
      ]
     },
     "metadata": {},
     "output_type": "display_data"
    },
    {
     "name": "stdout",
     "output_type": "stream",
     "text": [
      "\n"
     ]
    },
    {
     "data": {
      "application/vnd.jupyter.widget-view+json": {
       "model_id": "502f516f9a644f30baaae336238d587a",
       "version_major": 2,
       "version_minor": 0
      },
      "text/plain": [
       "HBox(children=(FloatProgress(value=0.0, description='Running Epoch 1 of 2', max=10761.0, style=ProgressStyle(d…"
      ]
     },
     "metadata": {},
     "output_type": "display_data"
    },
    {
     "name": "stdout",
     "output_type": "stream",
     "text": [
      "\n",
      "\n"
     ]
    },
    {
     "data": {
      "text/plain": [
       "(21522, 1.6252723706830956)"
      ]
     },
     "execution_count": 48,
     "metadata": {},
     "output_type": "execute_result"
    }
   ],
   "source": [
    "model.train_model(training, output_dir = 'scibert_output')"
   ]
  },
  {
   "cell_type": "code",
   "execution_count": 26,
   "metadata": {},
   "outputs": [],
   "source": [
    "##############################\n",
    "# How to reload model once it's already trained\n",
    "\n",
    "model = ClassificationModel(\n",
    "    \"bert\", \"scibert_output/checkpoint-21522-epoch-2\"\n",
    ")"
   ]
  },
  {
   "cell_type": "code",
   "execution_count": 27,
   "metadata": {},
   "outputs": [
    {
     "data": {
      "application/vnd.jupyter.widget-view+json": {
       "model_id": "25548becb7f44fed8f26e560027babb9",
       "version_major": 2,
       "version_minor": 0
      },
      "text/plain": [
       "HBox(children=(FloatProgress(value=0.0, description='Running Evaluation', max=3587.0, style=ProgressStyle(desc…"
      ]
     },
     "metadata": {},
     "output_type": "display_data"
    },
    {
     "name": "stdout",
     "output_type": "stream",
     "text": [
      "\n"
     ]
    },
    {
     "name": "stderr",
     "output_type": "stream",
     "text": [
      "/sw/arcts/centos7/python3.8-anaconda/2020.07/lib/python3.8/site-packages/sklearn/metrics/_classification.py:846: RuntimeWarning: invalid value encountered in double_scalars\n",
      "  mcc = cov_ytyp / np.sqrt(cov_ytyt * cov_ypyp)\n"
     ]
    },
    {
     "data": {
      "text/plain": [
       "{'mcc': 0.0, 'eval_loss': 1.610702323587884}"
      ]
     },
     "execution_count": 27,
     "metadata": {},
     "output_type": "execute_result"
    }
   ],
   "source": [
    "scores1, model_outputs, wrong_predictions = model.eval_model(testing)\n",
    "scores1"
   ]
  },
  {
   "cell_type": "code",
   "execution_count": 50,
   "metadata": {},
   "outputs": [
    {
     "data": {
      "application/vnd.jupyter.widget-view+json": {
       "model_id": "bcb8c9226c674dd49a629b1bba8a7803",
       "version_major": 2,
       "version_minor": 0
      },
      "text/plain": [
       "HBox(children=(FloatProgress(value=0.0, description='Running Evaluation', max=3587.0, style=ProgressStyle(desc…"
      ]
     },
     "metadata": {},
     "output_type": "display_data"
    },
    {
     "name": "stdout",
     "output_type": "stream",
     "text": [
      "\n"
     ]
    },
    {
     "data": {
      "text/plain": [
       "{'mcc': 0.0,\n",
       " 'f1': 0.19947726084683742,\n",
       " 'acc': 0.19947726084683742,\n",
       " 'eval_loss': 1.6106858047097714}"
      ]
     },
     "execution_count": 50,
     "metadata": {},
     "output_type": "execute_result"
    }
   ],
   "source": [
    "scores2, model_outputs, wrong_predictions = model.eval_model(testing, f1=f1_multiclass, acc=accuracy_score)\n",
    "scores2"
   ]
  },
  {
   "cell_type": "code",
   "execution_count": 28,
   "metadata": {},
   "outputs": [
    {
     "data": {
      "application/vnd.jupyter.widget-view+json": {
       "model_id": "be5945405f9a49d68cb852b87e093998",
       "version_major": 2,
       "version_minor": 0
      },
      "text/plain": [
       "HBox(children=(FloatProgress(value=0.0, max=3587.0), HTML(value='')))"
      ]
     },
     "metadata": {},
     "output_type": "display_data"
    },
    {
     "name": "stdout",
     "output_type": "stream",
     "text": [
      "\n"
     ]
    }
   ],
   "source": [
    "predictions, raw_outputs = model.predict(testing.iloc[:,0].tolist())"
   ]
  },
  {
   "cell_type": "code",
   "execution_count": 29,
   "metadata": {},
   "outputs": [
    {
     "data": {
      "image/png": "[encoded data removed]",
      "text/plain": [
       "<Figure size 432x288 with 2 Axes>"
      ]
     },
     "metadata": {
      "needs_background": "light"
     },
     "output_type": "display_data"
    }
   ],
   "source": [
    "import seaborn as sns\n",
    "import matplotlib.pyplot as plt\n",
    "from sklearn.metrics import confusion_matrix\n",
    "\n",
    "\n",
    "amounts2 = [0, 1, 2, 3, 4]\n",
    "\n",
    "cm = confusion_matrix(testing.iloc[:,1].tolist(), predictions ) #, labels=amounts)\n",
    "# Normalise\n",
    "cmn = cm.astype('float') / cm.sum(axis=1)[:, np.newaxis]\n",
    "cm_df = pd.DataFrame(cmn)\n",
    "cm_df.columns = amounts2\n",
    "cm_df.columns.name = 'Predicted'\n",
    "cm_df.index = amounts2\n",
    "cm_df.index.name = 'True'\n",
    "\n",
    "fig = plt.figure()\n",
    "ax = fig.add_subplot(111)\n",
    "\n",
    "ax.set_xticklabels([''] + amounts2)\n",
    "ax.set_yticklabels([''] + amounts2)\n",
    "\n",
    "plt.xlabel('Predicted')\n",
    "plt.ylabel('True')\n",
    "\n",
    "sns.heatmap(cm_df, annot=True)\n",
    "\n",
    "plt.title('Actual vs. Predicted Values \\n')\n",
    "plt.show()"
   ]
  },
  {
   "cell_type": "code",
   "execution_count": null,
   "metadata": {},
   "outputs": [],
   "source": []
  }
 ],
 "metadata": {
  "kernelspec": {
   "display_name": "Python 3",
   "language": "python",
   "name": "python3"
  },
  "language_info": {
   "codemirror_mode": {
    "name": "ipython",
    "version": 3
   },
   "file_extension": ".py",
   "mimetype": "text/x-python",
   "name": "python",
   "nbconvert_exporter": "python",
   "pygments_lexer": "ipython3",
   "version": "3.8.3"
  }
 },
 "nbformat": 4,
 "nbformat_minor": 4
}
